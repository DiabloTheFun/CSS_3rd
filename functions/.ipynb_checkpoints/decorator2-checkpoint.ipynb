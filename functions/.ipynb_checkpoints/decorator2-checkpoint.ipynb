{
 "cells": [
  {
   "cell_type": "code",
   "execution_count": 37,
   "metadata": {
    "collapsed": true
   },
   "outputs": [],
   "source": [
    "from functools import wraps\n",
    "import time\n",
    "\n",
    "def call_counter(org_func):\n",
    "    cnt = 0\n",
    "    @wraps(org_func)\n",
    "    def inner_counter(*args, **kwargs):\n",
    "        nonlocal cnt\n",
    "        cnt += 1\n",
    "        print('function call : {}'.format(cnt))\n",
    "        #org_func 이름 확인\n",
    "        print('org_func from counter: {}'.format(org_func.__name__))\n",
    "        return org_func(*args, **kwargs)\n",
    "    return inner_counter\n",
    "\n",
    "def timer(org_func):\n",
    "    @wraps(org_func)\n",
    "    def inner_timer(*args, **kwargs):\n",
    "        #org_func 이름 확인\n",
    "        print('org_func from timer: {}'.format(org_func.__name__))\n",
    "        start = time.time()\n",
    "        result = org_func(*args, **kwargs)\n",
    "        elapsed = time.time() - start\n",
    "        print(\"elapsed time : {}\".format(round(elapsed, 1)))\n",
    "        return result\n",
    "    return inner_timer\n",
    "\n"
   ]
  },
  {
   "cell_type": "code",
   "execution_count": 38,
   "metadata": {},
   "outputs": [],
   "source": [
    "@call_counter\n",
    "@timer\n",
    "def func(a, b):\n",
    "    time.sleep(2)\n",
    "    return a + b"
   ]
  },
  {
   "cell_type": "code",
   "execution_count": 39,
   "metadata": {},
   "outputs": [
    {
     "name": "stdout",
     "output_type": "stream",
     "text": [
      "function call : 1\n",
      "org_func from counter: func\n",
      "org_func from timer: func\n",
      "elapsed time : 2.0\n"
     ]
    },
    {
     "data": {
      "text/plain": [
       "24"
      ]
     },
     "execution_count": 39,
     "metadata": {},
     "output_type": "execute_result"
    }
   ],
   "source": [
    "func(2, 22)"
   ]
  },
  {
   "cell_type": "code",
   "execution_count": null,
   "metadata": {
    "collapsed": true
   },
   "outputs": [],
   "source": []
  }
 ],
 "metadata": {
  "kernelspec": {
   "display_name": "Python 3",
   "language": "python",
   "name": "python3"
  },
  "language_info": {
   "codemirror_mode": {
    "name": "ipython",
    "version": 3
   },
   "file_extension": ".py",
   "mimetype": "text/x-python",
   "name": "python",
   "nbconvert_exporter": "python",
   "pygments_lexer": "ipython3",
   "version": "3.6.1"
  }
 },
 "nbformat": 4,
 "nbformat_minor": 2
}
