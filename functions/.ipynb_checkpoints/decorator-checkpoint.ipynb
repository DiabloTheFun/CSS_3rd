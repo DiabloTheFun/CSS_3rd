{
 "cells": [
  {
   "cell_type": "code",
   "execution_count": 1,
   "metadata": {},
   "outputs": [
    {
     "data": {
      "text/plain": [
       "50"
      ]
     },
     "execution_count": 1,
     "metadata": {},
     "output_type": "execute_result"
    }
   ],
   "source": [
    "#overwrite되어 마지막에 정의된 func만 유효\n",
    "def func(a, b):\n",
    "    return a + b\n",
    "\n",
    "def func(a, b):\n",
    "    return a * b\n",
    "\n",
    "a = 10\n",
    "b = 5\n",
    "func(a, b)"
   ]
  },
  {
   "cell_type": "code",
   "execution_count": 11,
   "metadata": {},
   "outputs": [
    {
     "name": "stdout",
     "output_type": "stream",
     "text": [
      "func\n",
      "inner\n"
     ]
    }
   ],
   "source": [
    "#decorator\n",
    "def outer(org_func):\n",
    "    def inner(*args, **kwargs):\n",
    "        #to-do:\n",
    "        print(\"Things\")\n",
    "        return org_func(*args, **kwargs)\n",
    "    return inner\n",
    "\n",
    "def func(a, b):\n",
    "    return a + b\n",
    "\n",
    "print(func.__name__)\n",
    "func = outer(func)\n",
    "print(func.__name__)"
   ]
  },
  {
   "cell_type": "code",
   "execution_count": 12,
   "metadata": {},
   "outputs": [
    {
     "name": "stdout",
     "output_type": "stream",
     "text": [
      "Things\n"
     ]
    },
    {
     "data": {
      "text/plain": [
       "3"
      ]
     },
     "execution_count": 12,
     "metadata": {},
     "output_type": "execute_result"
    }
   ],
   "source": [
    "func(1, 2)"
   ]
  },
  {
   "cell_type": "code",
   "execution_count": 14,
   "metadata": {},
   "outputs": [
    {
     "name": "stdout",
     "output_type": "stream",
     "text": [
      "inner\n"
     ]
    }
   ],
   "source": [
    "@outer\n",
    "def func(a, b):\n",
    "    return a + b\n",
    "\n",
    "print(func.__name__)"
   ]
  },
  {
   "cell_type": "code",
   "execution_count": 16,
   "metadata": {},
   "outputs": [
    {
     "name": "stdout",
     "output_type": "stream",
     "text": [
      "Things\n"
     ]
    },
    {
     "data": {
      "text/plain": [
       "19"
      ]
     },
     "execution_count": 16,
     "metadata": {},
     "output_type": "execute_result"
    }
   ],
   "source": [
    "func(2, 17)"
   ]
  },
  {
   "cell_type": "code",
   "execution_count": 63,
   "metadata": {
    "collapsed": true
   },
   "outputs": [],
   "source": [
    "#function call counter\n",
    "def call_counter(org_func):\n",
    "    cnt = 0\n",
    "    def inner(*args, **kwargs):\n",
    "        nonlocal cnt\n",
    "        cnt += 1\n",
    "        print('function call : {}'.format(cnt))\n",
    "        return org_func(*args, **kwargs)\n",
    "    return inner"
   ]
  },
  {
   "cell_type": "code",
   "execution_count": 64,
   "metadata": {},
   "outputs": [
    {
     "name": "stdout",
     "output_type": "stream",
     "text": [
      "function call : 1\n",
      "2 + 3 = 5\n",
      "function call : 2\n",
      "3 + 4 = 7\n",
      "function call : 3\n",
      "4 + 5 = 9\n",
      "function call : 4\n",
      "5 + 6 = 11\n",
      "function call : 5\n",
      "6 + 7 = 13\n",
      "function call : 6\n",
      "7 + 8 = 15\n",
      "function call : 7\n",
      "8 + 9 = 17\n",
      "function call : 8\n",
      "9 + 10 = 19\n",
      "function call : 9\n",
      "10 + 11 = 21\n"
     ]
    }
   ],
   "source": [
    "@call_counter\n",
    "def func(a, b):\n",
    "    return a + b\n",
    "\n",
    "for i in range(1, 10):\n",
    "    a = i + 1\n",
    "    b = i + 2\n",
    "    result = func(a, b)\n",
    "    print('{} + {} = {}'.format(a, b, result))"
   ]
  },
  {
   "cell_type": "code",
   "execution_count": 65,
   "metadata": {
    "collapsed": true
   },
   "outputs": [],
   "source": [
    "#timer\n",
    "import time\n",
    "def timer(org_func):\n",
    "    def inner(*args, **kwargs):\n",
    "        start = time.time()\n",
    "        result = org_func(*args, **kwargs)\n",
    "        elapsed = time.time() - start\n",
    "        print(\"elapsed time : {}\".format(round(elapsed, 1)))\n",
    "        return result\n",
    "    return inner"
   ]
  },
  {
   "cell_type": "code",
   "execution_count": 66,
   "metadata": {},
   "outputs": [
    {
     "name": "stdout",
     "output_type": "stream",
     "text": [
      "elapsed time : 2.0\n"
     ]
    },
    {
     "data": {
      "text/plain": [
       "24"
      ]
     },
     "execution_count": 66,
     "metadata": {},
     "output_type": "execute_result"
    }
   ],
   "source": [
    "@timer\n",
    "def func(a, b):\n",
    "    #pause\n",
    "    time.sleep(2)\n",
    "    return a + b\n",
    "\n",
    "func(2, 22)"
   ]
  },
  {
   "cell_type": "code",
   "execution_count": null,
   "metadata": {
    "collapsed": true
   },
   "outputs": [],
   "source": []
  }
 ],
 "metadata": {
  "kernelspec": {
   "display_name": "Python 3",
   "language": "python",
   "name": "python3"
  },
  "language_info": {
   "codemirror_mode": {
    "name": "ipython",
    "version": 3
   },
   "file_extension": ".py",
   "mimetype": "text/x-python",
   "name": "python",
   "nbconvert_exporter": "python",
   "pygments_lexer": "ipython3",
   "version": "3.6.1"
  }
 },
 "nbformat": 4,
 "nbformat_minor": 2
}
